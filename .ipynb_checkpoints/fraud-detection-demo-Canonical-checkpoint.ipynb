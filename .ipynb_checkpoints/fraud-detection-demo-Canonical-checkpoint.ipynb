{
 "cells": [
  {
   "cell_type": "code",
   "execution_count": 1,
   "id": "227c9df7-dc40-48cb-9ecf-8f1fd15ef10f",
   "metadata": {},
   "outputs": [
    {
     "name": "stdout",
     "output_type": "stream",
     "text": [
      "Collecting onnx\n",
      "  Downloading onnx-1.17.0-cp311-cp311-manylinux_2_17_x86_64.manylinux2014_x86_64.whl.metadata (16 kB)\n",
      "Collecting onnxruntime\n",
      "  Downloading onnxruntime-1.19.2-cp311-cp311-manylinux_2_27_x86_64.manylinux_2_28_x86_64.whl.metadata (4.5 kB)\n",
      "Collecting tf2onnx\n",
      "  Downloading tf2onnx-1.16.1-py3-none-any.whl.metadata (1.3 kB)\n",
      "Collecting kagglehub\n",
      "  Downloading kagglehub-0.3.3-py3-none-any.whl.metadata (22 kB)\n",
      "Requirement already satisfied: numpy>=1.20 in /opt/conda/lib/python3.11/site-packages (from onnx) (1.24.4)\n",
      "Requirement already satisfied: protobuf>=3.20.2 in /opt/conda/lib/python3.11/site-packages (from onnx) (4.25.3)\n",
      "Collecting coloredlogs (from onnxruntime)\n",
      "  Downloading coloredlogs-15.0.1-py2.py3-none-any.whl.metadata (12 kB)\n",
      "Requirement already satisfied: flatbuffers in /opt/conda/lib/python3.11/site-packages (from onnxruntime) (24.3.25)\n",
      "Requirement already satisfied: packaging in /opt/conda/lib/python3.11/site-packages (from onnxruntime) (24.1)\n",
      "Collecting sympy (from onnxruntime)\n",
      "  Downloading sympy-1.13.3-py3-none-any.whl.metadata (12 kB)\n",
      "Requirement already satisfied: requests in /opt/conda/lib/python3.11/site-packages (from tf2onnx) (2.32.3)\n",
      "Requirement already satisfied: six in /opt/conda/lib/python3.11/site-packages (from tf2onnx) (1.16.0)\n",
      "Collecting protobuf>=3.20.2 (from onnx)\n",
      "  Downloading protobuf-3.20.3-py2.py3-none-any.whl.metadata (720 bytes)\n",
      "Requirement already satisfied: tqdm in /opt/conda/lib/python3.11/site-packages (from kagglehub) (4.66.4)\n",
      "Collecting humanfriendly>=9.1 (from coloredlogs->onnxruntime)\n",
      "  Downloading humanfriendly-10.0-py2.py3-none-any.whl.metadata (9.2 kB)\n",
      "Requirement already satisfied: charset-normalizer<4,>=2 in /opt/conda/lib/python3.11/site-packages (from requests->tf2onnx) (3.3.2)\n",
      "Requirement already satisfied: idna<4,>=2.5 in /opt/conda/lib/python3.11/site-packages (from requests->tf2onnx) (3.7)\n",
      "Requirement already satisfied: urllib3<3,>=1.21.1 in /opt/conda/lib/python3.11/site-packages (from requests->tf2onnx) (1.26.19)\n",
      "Requirement already satisfied: certifi>=2017.4.17 in /opt/conda/lib/python3.11/site-packages (from requests->tf2onnx) (2024.6.2)\n",
      "Collecting mpmath<1.4,>=1.1.0 (from sympy->onnxruntime)\n",
      "  Downloading mpmath-1.3.0-py3-none-any.whl.metadata (8.6 kB)\n",
      "Downloading onnx-1.17.0-cp311-cp311-manylinux_2_17_x86_64.manylinux2014_x86_64.whl (16.0 MB)\n",
      "\u001b[2K   \u001b[90m━━━━━━━━━━━━━━━━━━━━━━━━━━━━━━━━━━━━━━━━\u001b[0m \u001b[32m16.0/16.0 MB\u001b[0m \u001b[31m112.9 MB/s\u001b[0m eta \u001b[36m0:00:00\u001b[0m00:01\u001b[0m00:01\u001b[0m\n",
      "\u001b[?25hDownloading onnxruntime-1.19.2-cp311-cp311-manylinux_2_27_x86_64.manylinux_2_28_x86_64.whl (13.2 MB)\n",
      "\u001b[2K   \u001b[90m━━━━━━━━━━━━━━━━━━━━━━━━━━━━━━━━━━━━━━━━\u001b[0m \u001b[32m13.2/13.2 MB\u001b[0m \u001b[31m119.4 MB/s\u001b[0m eta \u001b[36m0:00:00\u001b[0m00:01\u001b[0m0:01\u001b[0m\n",
      "\u001b[?25hDownloading tf2onnx-1.16.1-py3-none-any.whl (455 kB)\n",
      "\u001b[2K   \u001b[90m━━━━━━━━━━━━━━━━━━━━━━━━━━━━━━━━━━━━━━━━\u001b[0m \u001b[32m455.8/455.8 kB\u001b[0m \u001b[31m59.8 MB/s\u001b[0m eta \u001b[36m0:00:00\u001b[0m\n",
      "\u001b[?25hDownloading kagglehub-0.3.3-py3-none-any.whl (42 kB)\n",
      "\u001b[2K   \u001b[90m━━━━━━━━━━━━━━━━━━━━━━━━━━━━━━━━━━━━━━━━\u001b[0m \u001b[32m42.9/42.9 kB\u001b[0m \u001b[31m7.8 MB/s\u001b[0m eta \u001b[36m0:00:00\u001b[0m\n",
      "\u001b[?25hDownloading protobuf-3.20.3-py2.py3-none-any.whl (162 kB)\n",
      "\u001b[2K   \u001b[90m━━━━━━━━━━━━━━━━━━━━━━━━━━━━━━━━━━━━━━━━\u001b[0m \u001b[32m162.1/162.1 kB\u001b[0m \u001b[31m27.8 MB/s\u001b[0m eta \u001b[36m0:00:00\u001b[0m\n",
      "\u001b[?25hDownloading coloredlogs-15.0.1-py2.py3-none-any.whl (46 kB)\n",
      "\u001b[2K   \u001b[90m━━━━━━━━━━━━━━━━━━━━━━━━━━━━━━━━━━━━━━━━\u001b[0m \u001b[32m46.0/46.0 kB\u001b[0m \u001b[31m8.3 MB/s\u001b[0m eta \u001b[36m0:00:00\u001b[0m\n",
      "\u001b[?25hDownloading sympy-1.13.3-py3-none-any.whl (6.2 MB)\n",
      "\u001b[2K   \u001b[90m━━━━━━━━━━━━━━━━━━━━━━━━━━━━━━━━━━━━━━━━\u001b[0m \u001b[32m6.2/6.2 MB\u001b[0m \u001b[31m122.0 MB/s\u001b[0m eta \u001b[36m0:00:00\u001b[0m00:01\u001b[0m\n",
      "\u001b[?25hDownloading humanfriendly-10.0-py2.py3-none-any.whl (86 kB)\n",
      "\u001b[2K   \u001b[90m━━━━━━━━━━━━━━━━━━━━━━━━━━━━━━━━━━━━━━━━\u001b[0m \u001b[32m86.8/86.8 kB\u001b[0m \u001b[31m9.1 MB/s\u001b[0m eta \u001b[36m0:00:00\u001b[0m\n",
      "\u001b[?25hDownloading mpmath-1.3.0-py3-none-any.whl (536 kB)\n",
      "\u001b[2K   \u001b[90m━━━━━━━━━━━━━━━━━━━━━━━━━━━━━━━━━━━━━━━━\u001b[0m \u001b[32m536.2/536.2 kB\u001b[0m \u001b[31m28.0 MB/s\u001b[0m eta \u001b[36m0:00:00\u001b[0m\n",
      "\u001b[?25hInstalling collected packages: mpmath, sympy, protobuf, humanfriendly, onnx, kagglehub, coloredlogs, tf2onnx, onnxruntime\n",
      "  Attempting uninstall: protobuf\n",
      "    Found existing installation: protobuf 4.25.3\n",
      "    Uninstalling protobuf-4.25.3:\n",
      "      Successfully uninstalled protobuf-4.25.3\n",
      "\u001b[31mERROR: pip's dependency resolver does not currently take into account all the packages that are installed. This behaviour is the source of the following dependency conflicts.\n",
      "kfp-pipeline-spec 0.3.0 requires protobuf<5,>=4.21.1, but you have protobuf 3.20.3 which is incompatible.\n",
      "kfp 2.7.0 requires protobuf<5,>=4.21.1, but you have protobuf 3.20.3 which is incompatible.\u001b[0m\u001b[31m\n",
      "\u001b[0mSuccessfully installed coloredlogs-15.0.1 humanfriendly-10.0 kagglehub-0.3.3 mpmath-1.3.0 onnx-1.17.0 onnxruntime-1.19.2 protobuf-3.20.3 sympy-1.13.3 tf2onnx-1.16.1\n"
     ]
    }
   ],
   "source": [
    "!pip install onnx onnxruntime tf2onnx kagglehub"
   ]
  },
  {
   "cell_type": "code",
   "execution_count": 2,
   "id": "814a44e4-9b76-4726-b719-35ae6f427d02",
   "metadata": {},
   "outputs": [
    {
     "name": "stderr",
     "output_type": "stream",
     "text": [
      "2024-10-30 12:49:30.911914: I external/local_tsl/tsl/cuda/cudart_stub.cc:31] Could not find cuda drivers on your machine, GPU will not be used.\n",
      "2024-10-30 12:49:30.959587: E external/local_xla/xla/stream_executor/cuda/cuda_dnn.cc:9261] Unable to register cuDNN factory: Attempting to register factory for plugin cuDNN when one has already been registered\n",
      "2024-10-30 12:49:30.959635: E external/local_xla/xla/stream_executor/cuda/cuda_fft.cc:607] Unable to register cuFFT factory: Attempting to register factory for plugin cuFFT when one has already been registered\n",
      "2024-10-30 12:49:30.961156: E external/local_xla/xla/stream_executor/cuda/cuda_blas.cc:1515] Unable to register cuBLAS factory: Attempting to register factory for plugin cuBLAS when one has already been registered\n",
      "2024-10-30 12:49:30.969080: I external/local_tsl/tsl/cuda/cudart_stub.cc:31] Could not find cuda drivers on your machine, GPU will not be used.\n",
      "2024-10-30 12:49:30.969888: I tensorflow/core/platform/cpu_feature_guard.cc:182] This TensorFlow binary is optimized to use available CPU instructions in performance-critical operations.\n",
      "To enable the following instructions: AVX2 FMA, in other operations, rebuild TensorFlow with the appropriate compiler flags.\n",
      "2024-10-30 12:49:32.004438: W tensorflow/compiler/tf2tensorrt/utils/py_utils.cc:38] TF-TRT Warning: Could not find TensorRT\n"
     ]
    }
   ],
   "source": [
    "import numpy as np\n",
    "import pandas as pd\n",
    "import datetime\n",
    "from keras.models import Sequential\n",
    "from keras.layers import Dense, Dropout, BatchNormalization, Activation\n",
    "from sklearn.model_selection import train_test_split\n",
    "from sklearn.preprocessing import StandardScaler\n",
    "from sklearn.utils import class_weight\n",
    "import tf2onnx\n",
    "import onnx\n",
    "import pickle\n",
    "import kagglehub\n",
    "from pathlib import Path"
   ]
  },
  {
   "cell_type": "code",
   "execution_count": 6,
   "id": "60b77efa-ec6a-4b80-b40e-74523dd4ea3d",
   "metadata": {},
   "outputs": [],
   "source": [
    "from sklearn.model_selection import train_test_split\n",
    "\n",
    "# Read the CSV file\n",
    "def split_dataset(input_file, train_size=0.6, val_size=0.2, test_size=0.2):\n",
    "    # Read the CSV file\n",
    "    print(\"Reading the dataset...\")\n",
    "    df = pd.read_csv(input_file)\n",
    "    \n",
    "    # First split: separate training set from the rest\n",
    "    train_df, temp_df = train_test_split(\n",
    "        df, \n",
    "        train_size=train_size,\n",
    "        random_state=42  # For reproducibility\n",
    "    )\n",
    "    \n",
    "    # Second split: divide the remaining data into validation and test sets\n",
    "    val_df, test_df = train_test_split(\n",
    "        temp_df,\n",
    "        train_size=val_size/(val_size + test_size),\n",
    "        random_state=42  # For reproducibility\n",
    "    )\n",
    "    \n",
    "    # Save the splits to new CSV files\n",
    "    print(\"Saving the splits...\")\n",
    "    train_df.to_csv('data/train_data.csv', index=False)\n",
    "    val_df.to_csv('data/validation_data.csv', index=False)\n",
    "    test_df.to_csv('data/test_data.csv', index=False)\n",
    "    \n",
    "    # Print the sizes of each split\n",
    "    print(f\"\\nDataset split complete:\")\n",
    "    print(f\"Total samples: {len(df)}\")\n",
    "    print(f\"Training samples: {len(train_df)} ({len(train_df)/len(df)*100:.1f}%)\")\n",
    "    print(f\"Validation samples: {len(val_df)} ({len(val_df)/len(df)*100:.1f}%)\")\n",
    "    print(f\"Testing samples: {len(test_df)} ({len(test_df)/len(df)*100:.1f}%)\")\n"
   ]
  },
  {
   "cell_type": "code",
   "execution_count": 7,
   "id": "993283f7-aff2-4afb-aa54-e6cc774244ce",
   "metadata": {},
   "outputs": [
    {
     "name": "stdout",
     "output_type": "stream",
     "text": [
      "Path to dataset files: /home/jovyan/.cache/kagglehub/datasets/nelgiriyewithana/credit-card-fraud-detection-dataset-2023/versions/1\n"
     ]
    }
   ],
   "source": [
    "import kagglehub\n",
    "\n",
    "# Download latest version\n",
    "path = kagglehub.dataset_download(\"nelgiriyewithana/credit-card-fraud-detection-dataset-2023\")\n",
    "\n",
    "print(\"Path to dataset files:\", path)"
   ]
  },
  {
   "cell_type": "code",
   "execution_count": 8,
   "id": "4363ae0c-f60f-4300-ae34-03e6b47e5fb3",
   "metadata": {},
   "outputs": [
    {
     "name": "stdout",
     "output_type": "stream",
     "text": [
      "Reading the dataset...\n",
      "Saving the splits...\n",
      "\n",
      "Dataset split complete:\n",
      "Total samples: 568630\n",
      "Training samples: 341178 (60.0%)\n",
      "Validation samples: 113726 (20.0%)\n",
      "Testing samples: 113726 (20.0%)\n"
     ]
    }
   ],
   "source": [
    "input_file = path + '/creditcard_2023.csv'  \n",
    "split_dataset(input_file)"
   ]
  },
  {
   "cell_type": "code",
   "execution_count": 10,
   "id": "3583c596-4ac9-488a-8de3-1dab69abe438",
   "metadata": {},
   "outputs": [
    {
     "name": "stdout",
     "output_type": "stream",
     "text": [
      "Reading the datasets...\n",
      "Training set shape: (341178, 31)\n",
      "Validation set shape: (113726, 31)\n",
      "Epoch 1/3\n",
      "10662/10662 [==============================] - 17s 1ms/step - loss: 0.0507 - accuracy: 0.9818 - auc: 0.9982 - val_loss: 0.0129 - val_accuracy: 0.9963 - val_auc: 0.9996\n",
      "Epoch 2/3\n",
      "10662/10662 [==============================] - 15s 1ms/step - loss: 0.0168 - accuracy: 0.9948 - auc: 0.9996 - val_loss: 0.0068 - val_accuracy: 0.9984 - val_auc: 0.9998\n",
      "Epoch 3/3\n",
      "10662/10662 [==============================] - 15s 1ms/step - loss: 0.0134 - accuracy: 0.9960 - auc: 0.9997 - val_loss: 0.0070 - val_accuracy: 0.9985 - val_auc: 0.9998\n",
      "Training of model is complete. Took 47.39773964881897 seconds\n"
     ]
    }
   ],
   "source": [
    "from sklearn.preprocessing import StandardScaler\n",
    "import tensorflow as tf\n",
    "\n",
    "# Read the split datasets\n",
    "print(\"Reading the datasets...\")\n",
    "df_train = pd.read_csv('data/train_data.csv')\n",
    "df_val = pd.read_csv('data/validation_data.csv')\n",
    "\n",
    "# Check the data was loaded correctly\n",
    "print(f\"Training set shape: {df_train.shape}\")\n",
    "print(f\"Validation set shape: {df_val.shape}\")\n",
    "\n",
    "# Separate features and target\n",
    "X_train = df_train.drop(['Class', 'id'], axis=1)  # Remove 'Class' and 'id' columns\n",
    "y_train = df_train['Class']\n",
    "\n",
    "X_val = df_val.drop(['Class', 'id'], axis=1)\n",
    "y_val = df_val['Class']\n",
    "\n",
    "# Scale the features (important for fraud detection)\n",
    "scaler = StandardScaler()\n",
    "X_train = scaler.fit_transform(X_train)\n",
    "X_val = scaler.transform(X_val)\n",
    "\n",
    "# Calculate class weights (important because fraud detection data is usually imbalanced)\n",
    "n_negative = np.sum(y_train == 0)\n",
    "n_positive = np.sum(y_train == 1)\n",
    "class_weights = {\n",
    "    0: 1,\n",
    "    1: n_negative/n_positive  # gives more weight to the minority class\n",
    "}\n",
    "\n",
    "# Convert to numpy arrays if not already\n",
    "X_train = np.array(X_train)\n",
    "y_train = np.array(y_train)\n",
    "X_val = np.array(X_val)\n",
    "y_val = np.array(y_val)\n",
    "\n",
    "# Define the model with 29 input features\n",
    "model = tf.keras.Sequential([\n",
    "    tf.keras.layers.Dense(64, activation='relu', input_shape=(29,)),\n",
    "    tf.keras.layers.Dropout(0.3),\n",
    "    tf.keras.layers.Dense(32, activation='relu'),\n",
    "    tf.keras.layers.Dropout(0.2),\n",
    "    tf.keras.layers.Dense(16, activation='relu'),\n",
    "    tf.keras.layers.Dense(1, activation='sigmoid')\n",
    "])\n",
    "\n",
    "# Compile the model\n",
    "model.compile(\n",
    "    optimizer='adam',\n",
    "    loss='binary_crossentropy',\n",
    "    metrics=['accuracy', tf.keras.metrics.AUC()]\n",
    ")\n",
    "\n",
    "# Train the model\n",
    "import time\n",
    "start = time.time()\n",
    "epochs = 3  # You might want more epochs for better results\n",
    "\n",
    "history = model.fit(\n",
    "    X_train,\n",
    "    y_train,\n",
    "    epochs=epochs,\n",
    "    batch_size=32,  # Adjust based on your memory constraints\n",
    "    validation_data=(X_val, y_val),\n",
    "    verbose=1,\n",
    "    class_weight=class_weights,\n",
    "    callbacks=[\n",
    "        tf.keras.callbacks.EarlyStopping(\n",
    "            monitor='val_loss',\n",
    "            patience=3,\n",
    "            restore_best_weights=True\n",
    "        )\n",
    "    ]\n",
    ")\n",
    "end = time.time()\n",
    "print(f\"Training of model is complete. Took {end-start} seconds\")"
   ]
  },
  {
   "cell_type": "code",
   "execution_count": 11,
   "id": "484d7bf0-94c7-49cb-9faf-bd8d01902ac6",
   "metadata": {},
   "outputs": [
    {
     "name": "stdout",
     "output_type": "stream",
     "text": [
      "Model saved successfully as ONNX\n",
      "Model loaded successfully for verification\n"
     ]
    },
    {
     "name": "stderr",
     "output_type": "stream",
     "text": [
      "2024-10-30 12:52:05.959438: I tensorflow/core/grappler/devices.cc:66] Number of eligible GPUs (core count >= 8, compute capability >= 0.0): 0\n",
      "2024-10-30 12:52:05.959600: I tensorflow/core/grappler/clusters/single_machine.cc:361] Starting new session\n",
      "2024-10-30 12:52:06.022351: I tensorflow/core/grappler/devices.cc:66] Number of eligible GPUs (core count >= 8, compute capability >= 0.0): 0\n",
      "2024-10-30 12:52:06.022523: I tensorflow/core/grappler/clusters/single_machine.cc:361] Starting new session\n"
     ]
    }
   ],
   "source": [
    "import tensorflow as tf\n",
    "import tf2onnx\n",
    "import onnx\n",
    "import os\n",
    "\n",
    "# Wrap the model in a tf.function\n",
    "@tf.function(input_signature=[tf.TensorSpec([None, X_train.shape[1]], tf.float32, name='dense_input')])\n",
    "def model_fn(x):\n",
    "    return model(x)\n",
    "\n",
    "# Convert the Keras model to ONNX\n",
    "model_proto, external_tensor_storage = tf2onnx.convert.from_function(\n",
    "    model_fn,\n",
    "    input_signature=[tf.TensorSpec([None, X_train.shape[1]], tf.float32, name='dense_input')],\n",
    "    opset=13  # You can specify the ONNX opset version here\n",
    ")\n",
    "\n",
    "# Create directory if it doesn't exist\n",
    "os.makedirs(\"models/fraud/1\", exist_ok=True)\n",
    "\n",
    "# Save the model as ONNX\n",
    "onnx.save(model_proto, \"models/fraud/1/model.onnx\")\n",
    "\n",
    "print(\"Model saved successfully as ONNX\")\n",
    "\n",
    "# Optionally verify the saved model\n",
    "model_loaded = onnx.load(\"models/fraud/1/model.onnx\")\n",
    "print(\"Model loaded successfully for verification\")"
   ]
  },
  {
   "cell_type": "code",
   "execution_count": 15,
   "id": "e5966dcf-70be-4d5f-be48-965846e63524",
   "metadata": {},
   "outputs": [
    {
     "name": "stdout",
     "output_type": "stream",
     "text": [
      "Training data shape: (341178, 29)\n",
      "Test data shape: (113726, 29)\n",
      "\n",
      "Expected input shape: ['unk__6', 29]\n",
      "Actual input shape: (113726, 29)\n",
      "ONNX model verification successful\n",
      "Prediction shape: (1, 1)\n",
      "Sample prediction: [0.]\n"
     ]
    }
   ],
   "source": [
    "import onnxruntime as ort\n",
    "\n",
    "df_test = pd.read_csv('data/test_data.csv')\n",
    "# First, verify the shapes\n",
    "print(f\"Training data shape: {X_train.shape}\")\n",
    "\n",
    "# Make sure X_test has the same preprocessing as X_train\n",
    "# Assuming df_test is your test dataframe\n",
    "X_test = df_test.drop(['Class', 'id'], axis=1)  # Keep the same columns as training\n",
    "X_test = scaler.transform(X_test)  # Use the same scaler that was fit on training data\n",
    "print(f\"Test data shape: {X_test.shape}\")\n",
    "\n",
    "# Now verify the ONNX model\n",
    "session = ort.InferenceSession(\"models/fraud/1/model.onnx\")\n",
    "input_name = session.get_inputs()[0].name\n",
    "\n",
    "# Print shapes for verification\n",
    "print(f\"\\nExpected input shape: {session.get_inputs()[0].shape}\")\n",
    "print(f\"Actual input shape: {X_test.shape}\")\n",
    "\n",
    "# Try a prediction with sample data\n",
    "sample_input = X_test[:1].astype(np.float32)\n",
    "pred_onnx = session.run(None, {input_name: sample_input})[0]\n",
    "\n",
    "print(\"ONNX model verification successful\")\n",
    "print(f\"Prediction shape: {pred_onnx.shape}\")\n",
    "print(f\"Sample prediction: {pred_onnx[0]}\")"
   ]
  },
  {
   "cell_type": "code",
   "execution_count": null,
   "id": "2248fe50-ed23-4ab3-9fc9-732dfe8c5c91",
   "metadata": {},
   "outputs": [],
   "source": []
  }
 ],
 "metadata": {
  "kernelspec": {
   "display_name": "Python 3 (ipykernel)",
   "language": "python",
   "name": "python3"
  },
  "language_info": {
   "codemirror_mode": {
    "name": "ipython",
    "version": 3
   },
   "file_extension": ".py",
   "mimetype": "text/x-python",
   "name": "python",
   "nbconvert_exporter": "python",
   "pygments_lexer": "ipython3",
   "version": "3.11.9"
  }
 },
 "nbformat": 4,
 "nbformat_minor": 5
}
