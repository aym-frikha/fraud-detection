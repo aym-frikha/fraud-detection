{
 "cells": [
  {
   "cell_type": "code",
   "execution_count": 54,
   "id": "227c9df7-dc40-48cb-9ecf-8f1fd15ef10f",
   "metadata": {},
   "outputs": [
    {
     "name": "stdout",
     "output_type": "stream",
     "text": [
      "Requirement already satisfied: onnx in /opt/conda/lib/python3.11/site-packages (1.17.0)\n",
      "Requirement already satisfied: onnxruntime in /opt/conda/lib/python3.11/site-packages (1.19.2)\n",
      "Requirement already satisfied: tf2onnx in /opt/conda/lib/python3.11/site-packages (1.16.1)\n",
      "Requirement already satisfied: kagglehub in /opt/conda/lib/python3.11/site-packages (0.3.3)\n",
      "Requirement already satisfied: numpy>=1.20 in /opt/conda/lib/python3.11/site-packages (from onnx) (1.24.4)\n",
      "Requirement already satisfied: protobuf>=3.20.2 in /opt/conda/lib/python3.11/site-packages (from onnx) (3.20.3)\n",
      "Requirement already satisfied: coloredlogs in /opt/conda/lib/python3.11/site-packages (from onnxruntime) (15.0.1)\n",
      "Requirement already satisfied: flatbuffers in /opt/conda/lib/python3.11/site-packages (from onnxruntime) (24.3.25)\n",
      "Requirement already satisfied: packaging in /opt/conda/lib/python3.11/site-packages (from onnxruntime) (24.1)\n",
      "Requirement already satisfied: sympy in /opt/conda/lib/python3.11/site-packages (from onnxruntime) (1.13.3)\n",
      "Requirement already satisfied: requests in /opt/conda/lib/python3.11/site-packages (from tf2onnx) (2.32.3)\n",
      "Requirement already satisfied: six in /opt/conda/lib/python3.11/site-packages (from tf2onnx) (1.16.0)\n",
      "Requirement already satisfied: tqdm in /opt/conda/lib/python3.11/site-packages (from kagglehub) (4.66.4)\n",
      "Requirement already satisfied: humanfriendly>=9.1 in /opt/conda/lib/python3.11/site-packages (from coloredlogs->onnxruntime) (10.0)\n",
      "Requirement already satisfied: charset-normalizer<4,>=2 in /opt/conda/lib/python3.11/site-packages (from requests->tf2onnx) (3.3.2)\n",
      "Requirement already satisfied: idna<4,>=2.5 in /opt/conda/lib/python3.11/site-packages (from requests->tf2onnx) (3.7)\n",
      "Requirement already satisfied: urllib3<3,>=1.21.1 in /opt/conda/lib/python3.11/site-packages (from requests->tf2onnx) (1.26.19)\n",
      "Requirement already satisfied: certifi>=2017.4.17 in /opt/conda/lib/python3.11/site-packages (from requests->tf2onnx) (2024.6.2)\n",
      "Requirement already satisfied: mpmath<1.4,>=1.1.0 in /opt/conda/lib/python3.11/site-packages (from sympy->onnxruntime) (1.3.0)\n"
     ]
    }
   ],
   "source": [
    "!pip install onnx onnxruntime tf2onnx kagglehub"
   ]
  },
  {
   "cell_type": "code",
   "execution_count": 55,
   "id": "814a44e4-9b76-4726-b719-35ae6f427d02",
   "metadata": {},
   "outputs": [],
   "source": [
    "import numpy as np\n",
    "import pandas as pd\n",
    "import datetime\n",
    "from keras.models import Sequential\n",
    "from keras.layers import Dense, Dropout, BatchNormalization, Activation\n",
    "from sklearn.model_selection import train_test_split\n",
    "from sklearn.preprocessing import StandardScaler\n",
    "from sklearn.utils import class_weight\n",
    "import tf2onnx\n",
    "import onnx\n",
    "import pickle\n",
    "import kagglehub\n",
    "from pathlib import Path"
   ]
  },
  {
   "cell_type": "code",
   "execution_count": 59,
   "id": "60b77efa-ec6a-4b80-b40e-74523dd4ea3d",
   "metadata": {},
   "outputs": [],
   "source": [
    "from sklearn.model_selection import train_test_split\n",
    "\n",
    "# Read the CSV file\n",
    "def split_dataset(input_file, train_size=0.6, val_size=0.2, test_size=0.2):\n",
    "    # Read the CSV file\n",
    "    print(\"Reading the dataset...\")\n",
    "    df = pd.read_csv(input_file)\n",
    "    \n",
    "    # First split: separate training set from the rest\n",
    "    train_df, temp_df = train_test_split(\n",
    "        df, \n",
    "        train_size=train_size,\n",
    "        random_state=42  # For reproducibility\n",
    "    )\n",
    "    \n",
    "    # Second split: divide the remaining data into validation and test sets\n",
    "    val_df, test_df = train_test_split(\n",
    "        temp_df,\n",
    "        train_size=val_size/(val_size + test_size),\n",
    "        random_state=42  # For reproducibility\n",
    "    )\n",
    "    \n",
    "    # Save the splits to new CSV files\n",
    "    print(\"Saving the splits...\")\n",
    "    train_df.to_csv('fraud-detection/data/train_data.csv', index=False)\n",
    "    val_df.to_csv('fraud-detection/data/validation_data.csv', index=False)\n",
    "    test_df.to_csv('fraud-detection/data/test_data.csv', index=False)\n",
    "    \n",
    "    # Print the sizes of each split\n",
    "    print(f\"\\nDataset split complete:\")\n",
    "    print(f\"Total samples: {len(df)}\")\n",
    "    print(f\"Training samples: {len(train_df)} ({len(train_df)/len(df)*100:.1f}%)\")\n",
    "    print(f\"Validation samples: {len(val_df)} ({len(val_df)/len(df)*100:.1f}%)\")\n",
    "    print(f\"Testing samples: {len(test_df)} ({len(test_df)/len(df)*100:.1f}%)\")\n"
   ]
  },
  {
   "cell_type": "code",
   "execution_count": 63,
   "id": "993283f7-aff2-4afb-aa54-e6cc774244ce",
   "metadata": {},
   "outputs": [
    {
     "name": "stdout",
     "output_type": "stream",
     "text": [
      "Path to dataset files: /home/jovyan/.cache/kagglehub/datasets/nelgiriyewithana/credit-card-fraud-detection-dataset-2023/versions/1\n"
     ]
    }
   ],
   "source": [
    "import kagglehub\n",
    "\n",
    "# Download latest version\n",
    "path = kagglehub.dataset_download(\"nelgiriyewithana/credit-card-fraud-detection-dataset-2023\")\n",
    "\n",
    "print(\"Path to dataset files:\", path)"
   ]
  },
  {
   "cell_type": "code",
   "execution_count": 64,
   "id": "4363ae0c-f60f-4300-ae34-03e6b47e5fb3",
   "metadata": {},
   "outputs": [
    {
     "name": "stdout",
     "output_type": "stream",
     "text": [
      "Reading the dataset...\n",
      "Saving the splits...\n",
      "\n",
      "Dataset split complete:\n",
      "Total samples: 568630\n",
      "Training samples: 341178 (60.0%)\n",
      "Validation samples: 113726 (20.0%)\n",
      "Testing samples: 113726 (20.0%)\n"
     ]
    }
   ],
   "source": [
    "input_file = path + '/creditcard_2023.csv'  \n",
    "split_dataset(input_file)"
   ]
  },
  {
   "cell_type": "code",
   "execution_count": 65,
   "id": "3583c596-4ac9-488a-8de3-1dab69abe438",
   "metadata": {},
   "outputs": [
    {
     "name": "stdout",
     "output_type": "stream",
     "text": [
      "Reading the datasets...\n",
      "Training set shape: (341178, 31)\n",
      "Validation set shape: (113726, 31)\n",
      "Epoch 1/3\n",
      "10662/10662 [==============================] - 17s 1ms/step - loss: 0.0540 - accuracy: 0.9803 - auc_2: 0.9980 - val_loss: 0.0126 - val_accuracy: 0.9967 - val_auc_2: 0.9997\n",
      "Epoch 2/3\n",
      "10662/10662 [==============================] - 15s 1ms/step - loss: 0.0179 - accuracy: 0.9943 - auc_2: 0.9995 - val_loss: 0.0082 - val_accuracy: 0.9980 - val_auc_2: 0.9998\n",
      "Epoch 3/3\n",
      "10662/10662 [==============================] - 15s 1ms/step - loss: 0.0131 - accuracy: 0.9961 - auc_2: 0.9997 - val_loss: 0.0057 - val_accuracy: 0.9989 - val_auc_2: 0.9998\n",
      "Training of model is complete. Took 46.82496738433838 seconds\n"
     ]
    }
   ],
   "source": [
    "from sklearn.preprocessing import StandardScaler\n",
    "import tensorflow as tf\n",
    "\n",
    "# Read the split datasets\n",
    "print(\"Reading the datasets...\")\n",
    "df_train = pd.read_csv('fraud-detection/data/train_data.csv')\n",
    "df_val = pd.read_csv('fraud-detection/data/validation_data.csv')\n",
    "\n",
    "# Check the data was loaded correctly\n",
    "print(f\"Training set shape: {df_train.shape}\")\n",
    "print(f\"Validation set shape: {df_val.shape}\")\n",
    "\n",
    "# Separate features and target\n",
    "X_train = df_train.drop(['Class', 'id'], axis=1)  # Remove 'Class' and 'id' columns\n",
    "y_train = df_train['Class']\n",
    "\n",
    "X_val = df_val.drop(['Class', 'id'], axis=1)\n",
    "y_val = df_val['Class']\n",
    "\n",
    "# Scale the features (important for fraud detection)\n",
    "scaler = StandardScaler()\n",
    "X_train = scaler.fit_transform(X_train)\n",
    "X_val = scaler.transform(X_val)\n",
    "\n",
    "# Calculate class weights (important because fraud detection data is usually imbalanced)\n",
    "n_negative = np.sum(y_train == 0)\n",
    "n_positive = np.sum(y_train == 1)\n",
    "class_weights = {\n",
    "    0: 1,\n",
    "    1: n_negative/n_positive  # gives more weight to the minority class\n",
    "}\n",
    "\n",
    "# Convert to numpy arrays if not already\n",
    "X_train = np.array(X_train)\n",
    "y_train = np.array(y_train)\n",
    "X_val = np.array(X_val)\n",
    "y_val = np.array(y_val)\n",
    "\n",
    "# Define the model with 29 input features\n",
    "model = tf.keras.Sequential([\n",
    "    tf.keras.layers.Dense(64, activation='relu', input_shape=(29,)),\n",
    "    tf.keras.layers.Dropout(0.3),\n",
    "    tf.keras.layers.Dense(32, activation='relu'),\n",
    "    tf.keras.layers.Dropout(0.2),\n",
    "    tf.keras.layers.Dense(16, activation='relu'),\n",
    "    tf.keras.layers.Dense(1, activation='sigmoid')\n",
    "])\n",
    "\n",
    "# Compile the model\n",
    "model.compile(\n",
    "    optimizer='adam',\n",
    "    loss='binary_crossentropy',\n",
    "    metrics=['accuracy', tf.keras.metrics.AUC()]\n",
    ")\n",
    "\n",
    "# Train the model\n",
    "import time\n",
    "start = time.time()\n",
    "epochs = 3  # You might want more epochs for better results\n",
    "\n",
    "history = model.fit(\n",
    "    X_train,\n",
    "    y_train,\n",
    "    epochs=epochs,\n",
    "    batch_size=32,  # Adjust based on your memory constraints\n",
    "    validation_data=(X_val, y_val),\n",
    "    verbose=1,\n",
    "    class_weight=class_weights,\n",
    "    callbacks=[\n",
    "        tf.keras.callbacks.EarlyStopping(\n",
    "            monitor='val_loss',\n",
    "            patience=3,\n",
    "            restore_best_weights=True\n",
    "        )\n",
    "    ]\n",
    ")\n",
    "end = time.time()\n",
    "print(f\"Training of model is complete. Took {end-start} seconds\")"
   ]
  },
  {
   "cell_type": "code",
   "execution_count": 69,
   "id": "484d7bf0-94c7-49cb-9faf-bd8d01902ac6",
   "metadata": {},
   "outputs": [
    {
     "name": "stdout",
     "output_type": "stream",
     "text": [
      "Model saved successfully as ONNX\n",
      "Model loaded successfully for verification\n"
     ]
    },
    {
     "name": "stderr",
     "output_type": "stream",
     "text": [
      "2024-10-30 08:45:19.621790: I tensorflow/core/grappler/devices.cc:66] Number of eligible GPUs (core count >= 8, compute capability >= 0.0): 0\n",
      "2024-10-30 08:45:19.621974: I tensorflow/core/grappler/clusters/single_machine.cc:361] Starting new session\n",
      "2024-10-30 08:45:19.685812: I tensorflow/core/grappler/devices.cc:66] Number of eligible GPUs (core count >= 8, compute capability >= 0.0): 0\n",
      "2024-10-30 08:45:19.686018: I tensorflow/core/grappler/clusters/single_machine.cc:361] Starting new session\n"
     ]
    }
   ],
   "source": [
    "import tensorflow as tf\n",
    "import tf2onnx\n",
    "import onnx\n",
    "import os\n",
    "\n",
    "# Wrap the model in a tf.function\n",
    "@tf.function(input_signature=[tf.TensorSpec([None, X_train.shape[1]], tf.float32, name='dense_input')])\n",
    "def model_fn(x):\n",
    "    return model(x)\n",
    "\n",
    "# Convert the Keras model to ONNX\n",
    "model_proto, external_tensor_storage = tf2onnx.convert.from_function(\n",
    "    model_fn,\n",
    "    input_signature=[tf.TensorSpec([None, X_train.shape[1]], tf.float32, name='dense_input')],\n",
    "    opset=13  # You can specify the ONNX opset version here\n",
    ")\n",
    "\n",
    "# Create directory if it doesn't exist\n",
    "os.makedirs(\"fraud-detection/models/fraud/1\", exist_ok=True)\n",
    "\n",
    "# Save the model as ONNX\n",
    "onnx.save(model_proto, \"fraud-detection/models/fraud/1/model.onnx\")\n",
    "\n",
    "print(\"Model saved successfully as ONNX\")\n",
    "\n",
    "# Optionally verify the saved model\n",
    "model_loaded = onnx.load(\"fraud-detection/models/fraud/1/model.onnx\")\n",
    "print(\"Model loaded successfully for verification\")"
   ]
  },
  {
   "cell_type": "code",
   "execution_count": 70,
   "id": "e5966dcf-70be-4d5f-be48-965846e63524",
   "metadata": {},
   "outputs": [
    {
     "name": "stdout",
     "output_type": "stream",
     "text": [
      "Training data shape: (341178, 29)\n",
      "Test data shape: (113726, 29)\n",
      "\n",
      "Expected input shape: ['unk__31', 29]\n",
      "Actual input shape: (113726, 29)\n",
      "ONNX model verification successful\n",
      "Prediction shape: (1, 1)\n",
      "Sample prediction: [0.]\n"
     ]
    }
   ],
   "source": [
    "df_test = pd.read_csv('fraud-detection/data/test_data.csv')\n",
    "# First, verify the shapes\n",
    "print(f\"Training data shape: {X_train.shape}\")\n",
    "print(f\"Test data shape: {X_test.shape}\")\n",
    "\n",
    "# Make sure X_test has the same preprocessing as X_train\n",
    "# Assuming df_test is your test dataframe\n",
    "X_test = df_test.drop(['Class', 'id'], axis=1)  # Keep the same columns as training\n",
    "X_test = scaler.transform(X_test)  # Use the same scaler that was fit on training data\n",
    "\n",
    "# Now verify the ONNX model\n",
    "session = ort.InferenceSession(\"fraud-detection/models/fraud/1/model.onnx\")\n",
    "input_name = session.get_inputs()[0].name\n",
    "\n",
    "# Print shapes for verification\n",
    "print(f\"\\nExpected input shape: {session.get_inputs()[0].shape}\")\n",
    "print(f\"Actual input shape: {X_test.shape}\")\n",
    "\n",
    "# Try a prediction with sample data\n",
    "sample_input = X_test[:1].astype(np.float32)\n",
    "pred_onnx = session.run(None, {input_name: sample_input})[0]\n",
    "\n",
    "print(\"ONNX model verification successful\")\n",
    "print(f\"Prediction shape: {pred_onnx.shape}\")\n",
    "print(f\"Sample prediction: {pred_onnx[0]}\")"
   ]
  }
 ],
 "metadata": {
  "kernelspec": {
   "display_name": "Python 3 (ipykernel)",
   "language": "python",
   "name": "python3"
  },
  "language_info": {
   "codemirror_mode": {
    "name": "ipython",
    "version": 3
   },
   "file_extension": ".py",
   "mimetype": "text/x-python",
   "name": "python",
   "nbconvert_exporter": "python",
   "pygments_lexer": "ipython3",
   "version": "3.11.9"
  }
 },
 "nbformat": 4,
 "nbformat_minor": 5
}
